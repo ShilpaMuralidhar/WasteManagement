{
 "cells": [
  {
   "cell_type": "code",
   "execution_count": 1,
   "metadata": {},
   "outputs": [],
   "source": [
    "import pandas as pd\n",
    "import json\n",
    "#from IPython.display import display\n",
    "import numpy as np\n",
    "import matplotlib.pyplot as plt\n",
    "import seaborn as sns\n",
    "sns.set()\n",
    "\n",
    "from pandas.io.json import json_normalize"
   ]
  },
  {
   "cell_type": "code",
   "execution_count": 2,
   "metadata": {},
   "outputs": [],
   "source": [
    "#country_code = \"/Users/shilpa/Downloads/opendata-export.json\"\n",
    "#country_code_df = pd.read_json('/Users/shilpa/Downloads/opendata-export.json')\n",
    "#print(country_code_df)"
   ]
  },
  {
   "cell_type": "code",
   "execution_count": null,
   "metadata": {},
   "outputs": [],
   "source": [
    "with open('/Users/shilpa/Downloads/opendata-export.json') as data_file:    \n",
    "    data = json.load(data_file)  \n",
    "\n",
    "df = json_normalize(data, 'trashpoints', ['trashpoints_total', 'trashpoints'], \n",
    "                    record_prefix='trashpoints_')\n",
    "#data = '/Users/shilpa/Downloads/opendata-export.json'\n",
    "\n",
    "#df = pd.read_json(_, orient='index')\n",
    "\n",
    "df"
   ]
  },
  {
   "cell_type": "code",
   "execution_count": null,
   "metadata": {},
   "outputs": [],
   "source": [
    "df = pd.read_json(\"/Users/shilpa/Downloads/opendata-export.json\")\n",
    "df.trashpoints = pd.DataFrame(df.trashpoints.values.tolist())#['trashpoints']\n",
    "df = df.groupby(['trashpoints_total'])['trashpoints'].apply(','.join).reset_index()\n",
    "print (df)"
   ]
  },
  {
   "cell_type": "code",
   "execution_count": null,
   "metadata": {},
   "outputs": [],
   "source": []
  }
 ],
 "metadata": {
  "kernelspec": {
   "display_name": "Python 3",
   "language": "python",
   "name": "python3"
  },
  "language_info": {
   "codemirror_mode": {
    "name": "ipython",
    "version": 3
   },
   "file_extension": ".py",
   "mimetype": "text/x-python",
   "name": "python",
   "nbconvert_exporter": "python",
   "pygments_lexer": "ipython3",
   "version": "3.8.3"
  }
 },
 "nbformat": 4,
 "nbformat_minor": 4
}
